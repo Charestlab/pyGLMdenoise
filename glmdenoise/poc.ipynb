{
 "cells": [
  {
   "cell_type": "markdown",
   "metadata": {},
   "source": [
    "# Proof of concept, GLMdenoise"
   ]
  },
  {
   "cell_type": "markdown",
   "metadata": {},
   "source": [
    "Let's generate some data:\n",
    "\n",
    "\\begin{align}\n",
    "y = X\\beta + \\epsilon, \\epsilon \\sim N(0, 1)\n",
    "\\end{align}"
   ]
  },
  {
   "cell_type": "code",
   "execution_count": 3,
   "metadata": {},
   "outputs": [],
   "source": [
    "import numpy as np\n",
    "from sklearn.decomposition import PCA\n",
    "import matplotlib.pyplot as plt\n",
    "import pandas as pd\n",
    "from nistats.design_matrix import make_design_matrix\n",
    "from nistats.reporting import plot_design_matrix\n",
    "from itertools import compress\n",
    "import warnings\n",
    "warnings.simplefilter(action='ignore', category=FutureWarning)\n",
    "%matplotlib inline"
   ]
  },
  {
   "cell_type": "markdown",
   "metadata": {},
   "source": [
    "## Generate data\n",
    "data is list of runs, where each run is x * y * z * TRs"
   ]
  },
  {
   "cell_type": "code",
   "execution_count": 79,
   "metadata": {},
   "outputs": [],
   "source": [
    "def rsquared(y, yhat):\n",
    "    with np.errstate(divide='ignore', invalid='ignore'):\n",
    "        return 1 - (np.sum((y - yhat)**2, axis=0) / np.sum((y - y.mean(axis=0))**2, axis=0))"
   ]
  },
  {
   "cell_type": "code",
   "execution_count": 23,
   "metadata": {},
   "outputs": [
    {
     "data": {
      "text/plain": [
       "(641, 80, 80)"
      ]
     },
     "execution_count": 23,
     "metadata": {},
     "output_type": "execute_result"
    }
   ],
   "source": [
    "ii=1\n",
    "y = np.load(f'data/sub_sub-01_slice_15_run_{ii:02d}.npy')\n",
    "y.T.shape"
   ]
  },
  {
   "cell_type": "code",
   "execution_count": 28,
   "metadata": {},
   "outputs": [
    {
     "data": {
      "text/plain": [
       "(641, 6400)"
      ]
     },
     "execution_count": 28,
     "metadata": {},
     "output_type": "execute_result"
    }
   ],
   "source": [
    "y = y.T\n",
    "y.reshape([y.shape[0], -1]).shape"
   ]
  },
  {
   "cell_type": "code",
   "execution_count": 63,
   "metadata": {},
   "outputs": [],
   "source": [
    "data = []\n",
    "design = []\n",
    "n_runs = 2\n",
    "\n",
    "for ii in range(n_runs):\n",
    "    y = np.load(f'data/sub_sub-01_slice_15_run_{ii+1:02d}.npy').T\n",
    "    y = y.reshape([y.shape[0], -1])\n",
    "    \n",
    "    stimdur = 0.5\n",
    "    TR = 0.764\n",
    "    n_scans = y.shape[0]\n",
    "    frame_times = np.arange(n_scans) * TR\n",
    "    \n",
    "    # Load onsets and item presented\n",
    "    onsets = pd.read_csv(f'data/sub_sub-01_slice_15_run_{ii+1:02d}.csv')['onset'].values\n",
    "    items = pd.read_csv(f'data/sub_sub-01_slice_15_run_{ii+1:02d}.csv')['item'].values\n",
    "    n_events = len(onsets)\n",
    "\n",
    "    # Create design matrix\n",
    "    events = pd.DataFrame()\n",
    "    events['duration'] = [stimdur]*n_events\n",
    "    events['onset'] = onsets\n",
    "    events['trial_type'] = items\n",
    "\n",
    "    X = make_design_matrix(\n",
    "        frame_times, events, hrf_model='glover', drift_order=3, drift_model='polynomial')\n",
    "\n",
    "    data.append(y)\n",
    "    design.append(X.values)\n"
   ]
  },
  {
   "cell_type": "code",
   "execution_count": 84,
   "metadata": {},
   "outputs": [],
   "source": [
    "a = np.array(r2s).mean(0)"
   ]
  },
  {
   "cell_type": "code",
   "execution_count": 88,
   "metadata": {},
   "outputs": [
    {
     "data": {
      "text/plain": [
       "466"
      ]
     },
     "execution_count": 88,
     "metadata": {},
     "output_type": "execute_result"
    }
   ],
   "source": [
    "sum(np.isnan(a))"
   ]
  },
  {
   "cell_type": "code",
   "execution_count": 80,
   "metadata": {},
   "outputs": [],
   "source": [
    "b = rsquared(np.vstack(data),np.vstack(preds))"
   ]
  },
  {
   "cell_type": "code",
   "execution_count": null,
   "metadata": {},
   "outputs": [],
   "source": [
    "b"
   ]
  },
  {
   "cell_type": "code",
   "execution_count": 78,
   "metadata": {},
   "outputs": [
    {
     "name": "stdout",
     "output_type": "stream",
     "text": [
      "(1282, 6400)\n",
      "(1282, 6400)\n"
     ]
    }
   ],
   "source": [
    "print(np.vstack(preds).shape)\n",
    "print(np.vstack(data).shape)"
   ]
  },
  {
   "cell_type": "code",
   "execution_count": 95,
   "metadata": {},
   "outputs": [
    {
     "name": "stderr",
     "output_type": "stream",
     "text": [
      "/Users/daniel/anaconda/lib/python3.6/site-packages/matplotlib/axes/_base.py:2324: RuntimeWarning: overflow encountered in double_scalars\n",
      "  x0t -= delta\n"
     ]
    },
    {
     "data": {
      "text/plain": [
       "[<matplotlib.lines.Line2D at 0x12742ddd8>]"
      ]
     },
     "execution_count": 95,
     "metadata": {},
     "output_type": "execute_result"
    },
    {
     "data": {
      "image/png": "[encoded data removed]",
      "text/plain": [
       "<matplotlib.figure.Figure at 0x12c98ca20>"
      ]
     },
     "metadata": {},
     "output_type": "display_data"
    }
   ],
   "source": [
    "plt.plot(np.nan_to_num(a))"
   ]
  },
  {
   "cell_type": "code",
   "execution_count": 91,
   "metadata": {
    "scrolled": true
   },
   "outputs": [
    {
     "data": {
      "text/plain": [
       "<matplotlib.axes._subplots.AxesSubplot at 0x1270579b0>"
      ]
     },
     "execution_count": 91,
     "metadata": {},
     "output_type": "execute_result"
    },
    {
     "data": {
      "image/png": "[encoded data removed]",
      "text/plain": [
       "<matplotlib.figure.Figure at 0x127063eb8>"
      ]
     },
     "metadata": {},
     "output_type": "display_data"
    }
   ],
   "source": [
    "import seaborn as sns\n",
    "a[a == np.inf] = 0\n",
    "sns.distplot(np.nan_to_num(a), color='green')\n",
    "sns.distplot(np.nan_to_num(b))"
   ]
  },
  {
   "cell_type": "code",
   "execution_count": 67,
   "metadata": {},
   "outputs": [
    {
     "data": {
      "text/plain": [
       "(641, 6400)"
      ]
     },
     "execution_count": 67,
     "metadata": {},
     "output_type": "execute_result"
    }
   ],
   "source": [
    "tmpy.shape"
   ]
  },
  {
   "cell_type": "code",
   "execution_count": 83,
   "metadata": {},
   "outputs": [],
   "source": [
    "# cross-validate and get r-score for each voxel\n",
    "r2s = []\n",
    "preds =[]\n",
    "for run in range(n_runs):\n",
    "    # fit data using all the other runs\n",
    "    mask = np.arange(n_runs) != run\n",
    "    tmpy = np.vstack(compress(data, mask))\n",
    "    tmpX = np.vstack((compress(design, mask)))\n",
    "    \n",
    "    betas_tmp = np.linalg.lstsq(tmpX, tmpy,  rcond=False)[0]\n",
    "    \n",
    "    # left out data\n",
    "    yhat = design[run].dot(betas_tmp)\n",
    "    rsq2 = rsquared(data[run], yhat)\n",
    "    r2s.append(rsq2)\n",
    "    preds.append(yhat)\n",
    "    \n",
    "    \n",
    "    \n",
    "    "
   ]
  },
  {
   "cell_type": "code",
   "execution_count": 42,
   "metadata": {},
   "outputs": [],
   "source": [
    "betas_est = np.linalg.lstsq(X, y, rcond=False)[0]\n",
    "yhat = X.dot(betas_est)\n",
    "noise = y - yhat\n",
    "rsq2 = 1 - (np.sum((y - yhat)**2, axis=0) / np.sum((y - y.mean(axis=0))**2, axis=0))\n",
    "rsq = 1 - (np.sum((y - yhat)**2, axis=0) / np.sum(y**2, axis=0))"
   ]
  },
  {
   "cell_type": "markdown",
   "metadata": {},
   "source": [
    "### Calculate variance across betas\n",
    "\\begin{align}\n",
    "var(\\beta) = \\sigma^2(X^1X)^{-1}\n",
    "\\end{align}\n",
    "### Where\n",
    "\\begin{align}\n",
    "\\sigma = \\frac{\\sum_{i=1}^K(y_i - yhat_i)^2}{N-P}\n",
    "\\end{align}"
   ]
  },
  {
   "cell_type": "code",
   "execution_count": 44,
   "metadata": {},
   "outputs": [
    {
     "data": {
      "image/png": "[encoded data removed]",
      "text/plain": [
       "<matplotlib.figure.Figure at 0x1179c6cf8>"
      ]
     },
     "metadata": {},
     "output_type": "display_data"
    }
   ],
   "source": [
    "N_np = 49 # size of noise pool\n",
    "noise_mask = np.zeros(K).astype(bool)\n",
    "idx = np.argsort(rsq)[:N_np] # sort voxels after r square\n",
    "noise_mask[idx] = True\n",
    "noise_pool = y[:, idx]\n",
    "pcas = PCA().fit_transform(noise_pool)\n",
    "y_non_np = y[:, np.invert(idx)] # voxels not in the noise pool\n",
    "    \n",
    "median_var_betas = np.zeros(N_np)\n",
    "plt.figure(figsize=(12, 3))\n",
    "for i, n_pca in enumerate(np.arange(1, idx.size+1)):\n",
    "    # Add n PCs to design matrix\n",
    "    Xtmp = np.c_[X, pcas[:, :n_pca]]\n",
    "    # Fit data\n",
    "    betas_tmp = np.linalg.lstsq(Xtmp, y_non_np)[0]\n",
    "    yhat_tmp = Xtmp.dot(betas_tmp)\n",
    "    # calculate variance\n",
    "    sigsq_tmp = np.sum((y_non_np - yhat_tmp)**2, axis=0) / (N - Xtmp.shape[1])\n",
    "    des_var_tmp =  np.diagonal(np.linalg.inv(Xtmp.T.dot(Xtmp)))\n",
    "    var_betas = sigsq_tmp * des_var_tmp[:, np.newaxis]\n",
    "    median_var_betas[i] = np.median(var_betas)\n",
    "\n",
    "plt.plot(median_var_betas[:25])\n",
    "plt.xlabel('Nr of noise comps')\n",
    "plt.ylabel('Median var(beta)')\n",
    "plt.show()"
   ]
  }
 ],
 "metadata": {
  "kernelspec": {
   "display_name": "Python 3",
   "language": "python",
   "name": "python3"
  },
  "language_info": {
   "codemirror_mode": {
    "name": "ipython",
    "version": 3
   },
   "file_extension": ".py",
   "mimetype": "text/x-python",
   "name": "python",
   "nbconvert_exporter": "python",
   "pygments_lexer": "ipython3",
   "version": "3.6.0"
  }
 },
 "nbformat": 4,
 "nbformat_minor": 2
}
